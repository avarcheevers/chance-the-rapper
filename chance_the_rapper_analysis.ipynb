{
 "cells": [
  {
   "cell_type": "code",
   "execution_count": 3,
   "metadata": {},
   "outputs": [],
   "source": [
    "import numpy as np\n",
    "import pandas as pd\n",
    "import matplotlib.pyplot as plt\n",
    "import seaborn as sns\n",
    "import lyricsgenius"
   ]
  },
  {
   "cell_type": "code",
   "execution_count": 4,
   "metadata": {},
   "outputs": [],
   "source": [
    "chance_df = pd.read_csv('/Users/avacheevers/Desktop/music_input_data.csv')"
   ]
  },
  {
   "cell_type": "code",
   "execution_count": 5,
   "metadata": {
    "scrolled": true
   },
   "outputs": [
    {
     "name": "stdout",
     "output_type": "stream",
     "text": [
      "Searching for \"14,400 Minutes\" by Chance the Rapper...\n",
      "Done.\n",
      "Searching for \"Nostalgia\" by Chance the Rapper...\n",
      "Done.\n",
      "Searching for \"Missing You\" by Chance the Rapper...\n",
      "Done.\n",
      "Searching for \"Windows\" by Chance the Rapper...\n",
      "Done.\n",
      "Searching for \"Brain Cells\" by Chance the Rapper...\n",
      "Done.\n",
      "Searching for \"Long Time\" by Chance the Rapper...\n",
      "Done.\n",
      "Searching for \"22 Offs\" by Chance the Rapper...\n",
      "Done.\n",
      "Searching for \"U Got Me Fucked Up\" by Chance the Rapper...\n",
      "Done.\n",
      "Searching for \"Family\" by Chance the Rapper...\n",
      "Done.\n",
      "Searching for \"Juke Juke\" by Chance the Rapper...\n",
      "Done.\n",
      "Searching for \"Fuck You Tahm Bout\" by Chance the Rapper...\n",
      "Done.\n",
      "Searching for \"Long Time II\" by Chance the Rapper...\n",
      "Done.\n",
      "Searching for \"Prom Night\" by Chance the Rapper...\n",
      "Done.\n",
      "Searching for \"Hey Ma\" by Chance the Rapper...\n",
      "Done.\n",
      "Searching for \"Good Ass Intro\" by Chance the Rapper...\n",
      "Done.\n",
      "Searching for \"Pusha Man\" by Chance the Rapper...\n",
      "Done.\n",
      "Searching for \"Paranoia\" by Chance the Rapper...\n",
      "Done.\n",
      "Searching for \"Cocoa Butter Kisses\" by Chance the Rapper...\n",
      "Done.\n",
      "Searching for \"Juice\" by Chance the Rapper...\n",
      "Done.\n",
      "Searching for \"Lost\" by Chance the Rapper...\n",
      "Done.\n",
      "Searching for \"Everybody's Something\" by Chance the Rapper...\n",
      "Done.\n",
      "Searching for \"Interlude (That's Love)\" by Chance the Rapper...\n",
      "Done.\n",
      "Searching for \"Favorite Song\" by Chance the Rapper...\n",
      "Done.\n",
      "Searching for \"NaNa\" by Chance the Rapper...\n",
      "Done.\n",
      "Searching for \"Smoke Again\" by Chance the Rapper...\n",
      "Done.\n",
      "Searching for \"Acid Rain\" by Chance the Rapper...\n",
      "Done.\n",
      "Searching for \"Chain Smoker\" by Chance the Rapper...\n",
      "Done.\n",
      "Searching for \"Everything's Good (Good Ass Outro)\" by Chance the Rapper...\n",
      "Done.\n",
      "Searching for \"All We Got\" by Chance the Rapper...\n",
      "Done.\n",
      "Searching for \"No Problem\" by Chance the Rapper...\n",
      "Done.\n",
      "Searching for \"Summer Friends\" by Chance the Rapper...\n",
      "Done.\n",
      "Searching for \"D.R.A.M. Sings Special\" by Chance the Rapper...\n",
      "Done.\n",
      "Searching for \"Blessings (feat. Jamila Woods)\" by Chance the Rapper...\n",
      "Done.\n",
      "Searching for \"Same Drugs\" by Chance the Rapper...\n",
      "Done.\n",
      "Searching for \"Mixtape (feat. Young Thug & Lil Yachty)\" by Chance the Rapper...\n",
      "Done.\n",
      "Searching for \"Angels\" by Chance the Rapper...\n",
      "Done.\n",
      "Searching for \"Juke Jam\" by Chance the Rapper...\n",
      "Done.\n",
      "Searching for \"All Night\" by Chance the Rapper...\n",
      "Done.\n",
      "Searching for \"How Great\" by Chance the Rapper...\n",
      "Done.\n",
      "Searching for \"Smoke Break\" by Chance the Rapper...\n",
      "Done.\n",
      "Searching for \"Finish Line / Drown\" by Chance the Rapper...\n",
      "Done.\n",
      "Searching for \"Blessings (feat. Ty Dolla $ign, Anderson .Paak, BJ the Chicago Kid, Raury)\" by Chance the Rapper...\n",
      "Done.\n",
      "Searching for \"All Day Long\" by Chance the Rapper...\n",
      "Done.\n",
      "Searching for \"Do You Remember\" by Chance the Rapper...\n",
      "Done.\n",
      "Searching for \"Eternal\" by Chance the Rapper...\n",
      "Done.\n",
      "Searching for \"Hot Shower\" by Chance the Rapper...\n",
      "Done.\n",
      "Searching for \"We Go High\" by Chance the Rapper...\n",
      "Done.\n",
      "Searching for \"I Got You\" by Chance the Rapper...\n",
      "Done.\n",
      "Searching for \"Roo\" by Chance the Rapper...\n",
      "Done.\n",
      "Searching for \"The Big Day\" by Chance the Rapper...\n",
      "Done.\n",
      "Searching for \"Let's Go On The Run\" by Chance the Rapper...\n",
      "Done.\n",
      "Searching for \"Handsome\" by Chance the Rapper...\n",
      "Done.\n",
      "Searching for \"Big Fish\" by Chance the Rapper...\n",
      "Done.\n",
      "Searching for \"Ballin Flossin\" by Chance the Rapper...\n",
      "Done.\n",
      "Searching for \"5 Year Plan\" by Chance the Rapper...\n",
      "Done.\n",
      "Searching for \"Get A Bag\" by Chance the Rapper...\n",
      "Done.\n",
      "Searching for \"Slide Around\" by Chance the Rapper...\n",
      "Done.\n",
      "Searching for \"Sun Come Down\" by Chance the Rapper...\n",
      "Done.\n",
      "Searching for \"Found A Good One\" by Chance the Rapper...\n",
      "Done.\n",
      "Searching for \"Town On The Hill\" by Chance the Rapper...\n",
      "Done.\n",
      "Searching for \"Zanies and Fools\" by Chance the Rapper...\n",
      "Done.\n",
      "0 errors occured.\n"
     ]
    }
   ],
   "source": [
    "#reading lyrics from Genius API using lyricsgenius package\n",
    "genius = lyricsgenius.Genius('dPXmLgq8d3yoBnZIwmjzlYqSwZLgR7B93OdWGsph8r7-za2kj6tpcvl8EayuDqWE')\n",
    "\n",
    "song_dict = {}\n",
    "\n",
    "error_count = 0\n",
    "\n",
    "for item in chance_df['Song']:\n",
    "    try:\n",
    "        song = genius.search_song(item, 'Chance the Rapper')\n",
    "        song_dict[item] = song.lyrics.lower()\n",
    "    except:\n",
    "        print('Error occured with', song)\n",
    "        error_count += 1\n",
    "        song_dict[item] = ' '\n",
    "\n",
    "print(error_count, 'errors occured.')\n",
    "        "
   ]
  },
  {
   "cell_type": "code",
   "execution_count": 6,
   "metadata": {},
   "outputs": [],
   "source": [
    "#counts total occurances of any word in an inputted list of words\n",
    "def word_counter_by_song(words_to_search_for):\n",
    "    \n",
    "    word_count_dict = {}\n",
    "    \n",
    "    for key in song_dict:\n",
    "        matches_total = 0\n",
    "        \n",
    "        for word in words_to_search_for:\n",
    "            matches_per_song = song_dict[key].count(word)\n",
    "            matches_total += matches_per_song\n",
    "        word_count_dict[key] = matches_total\n",
    "        \n",
    "    return word_count_dict"
   ]
  },
  {
   "cell_type": "code",
   "execution_count": 7,
   "metadata": {},
   "outputs": [],
   "source": [
    "#i apologize for writing out these words!\n",
    "swear_dict = word_counter_by_song(['fuck','shit','bitch','pussy','dick','cock','fag','hoe'])"
   ]
  },
  {
   "cell_type": "code",
   "execution_count": 8,
   "metadata": {},
   "outputs": [],
   "source": [
    "#mapping swear count onto df\n",
    "chance_df['Swear Count'] = chance_df['Song'].map(swear_dict)"
   ]
  },
  {
   "cell_type": "code",
   "execution_count": 9,
   "metadata": {},
   "outputs": [
    {
     "data": {
      "text/html": [
       "<div>\n",
       "<style scoped>\n",
       "    .dataframe tbody tr th:only-of-type {\n",
       "        vertical-align: middle;\n",
       "    }\n",
       "\n",
       "    .dataframe tbody tr th {\n",
       "        vertical-align: top;\n",
       "    }\n",
       "\n",
       "    .dataframe thead th {\n",
       "        text-align: right;\n",
       "    }\n",
       "</style>\n",
       "<table border=\"1\" class=\"dataframe\">\n",
       "  <thead>\n",
       "    <tr style=\"text-align: right;\">\n",
       "      <th></th>\n",
       "      <th>Artist</th>\n",
       "      <th>Album</th>\n",
       "      <th>Year</th>\n",
       "      <th>Song</th>\n",
       "      <th>Swear Count</th>\n",
       "    </tr>\n",
       "  </thead>\n",
       "  <tbody>\n",
       "    <tr>\n",
       "      <td>0</td>\n",
       "      <td>Chance the Rapper</td>\n",
       "      <td>10 Day</td>\n",
       "      <td>2012</td>\n",
       "      <td>14,400 Minutes</td>\n",
       "      <td>3</td>\n",
       "    </tr>\n",
       "    <tr>\n",
       "      <td>1</td>\n",
       "      <td>Chance the Rapper</td>\n",
       "      <td>10 Day</td>\n",
       "      <td>2012</td>\n",
       "      <td>Nostalgia</td>\n",
       "      <td>0</td>\n",
       "    </tr>\n",
       "    <tr>\n",
       "      <td>2</td>\n",
       "      <td>Chance the Rapper</td>\n",
       "      <td>10 Day</td>\n",
       "      <td>2012</td>\n",
       "      <td>Missing You</td>\n",
       "      <td>8</td>\n",
       "    </tr>\n",
       "    <tr>\n",
       "      <td>3</td>\n",
       "      <td>Chance the Rapper</td>\n",
       "      <td>10 Day</td>\n",
       "      <td>2012</td>\n",
       "      <td>Windows</td>\n",
       "      <td>8</td>\n",
       "    </tr>\n",
       "    <tr>\n",
       "      <td>4</td>\n",
       "      <td>Chance the Rapper</td>\n",
       "      <td>10 Day</td>\n",
       "      <td>2012</td>\n",
       "      <td>Brain Cells</td>\n",
       "      <td>5</td>\n",
       "    </tr>\n",
       "    <tr>\n",
       "      <td>...</td>\n",
       "      <td>...</td>\n",
       "      <td>...</td>\n",
       "      <td>...</td>\n",
       "      <td>...</td>\n",
       "      <td>...</td>\n",
       "    </tr>\n",
       "    <tr>\n",
       "      <td>56</td>\n",
       "      <td>Chance the Rapper</td>\n",
       "      <td>The Big Day</td>\n",
       "      <td>2019</td>\n",
       "      <td>Slide Around</td>\n",
       "      <td>8</td>\n",
       "    </tr>\n",
       "    <tr>\n",
       "      <td>57</td>\n",
       "      <td>Chance the Rapper</td>\n",
       "      <td>The Big Day</td>\n",
       "      <td>2019</td>\n",
       "      <td>Sun Come Down</td>\n",
       "      <td>3</td>\n",
       "    </tr>\n",
       "    <tr>\n",
       "      <td>58</td>\n",
       "      <td>Chance the Rapper</td>\n",
       "      <td>The Big Day</td>\n",
       "      <td>2019</td>\n",
       "      <td>Found A Good One</td>\n",
       "      <td>1</td>\n",
       "    </tr>\n",
       "    <tr>\n",
       "      <td>59</td>\n",
       "      <td>Chance the Rapper</td>\n",
       "      <td>The Big Day</td>\n",
       "      <td>2019</td>\n",
       "      <td>Town On The Hill</td>\n",
       "      <td>0</td>\n",
       "    </tr>\n",
       "    <tr>\n",
       "      <td>60</td>\n",
       "      <td>Chance the Rapper</td>\n",
       "      <td>The Big Day</td>\n",
       "      <td>2019</td>\n",
       "      <td>Zanies and Fools</td>\n",
       "      <td>4</td>\n",
       "    </tr>\n",
       "  </tbody>\n",
       "</table>\n",
       "<p>61 rows × 5 columns</p>\n",
       "</div>"
      ],
      "text/plain": [
       "               Artist        Album  Year              Song  Swear Count\n",
       "0   Chance the Rapper       10 Day  2012    14,400 Minutes            3\n",
       "1   Chance the Rapper       10 Day  2012         Nostalgia            0\n",
       "2   Chance the Rapper       10 Day  2012       Missing You            8\n",
       "3   Chance the Rapper       10 Day  2012           Windows            8\n",
       "4   Chance the Rapper       10 Day  2012       Brain Cells            5\n",
       "..                ...          ...   ...               ...          ...\n",
       "56  Chance the Rapper  The Big Day  2019      Slide Around            8\n",
       "57  Chance the Rapper  The Big Day  2019     Sun Come Down            3\n",
       "58  Chance the Rapper  The Big Day  2019  Found A Good One            1\n",
       "59  Chance the Rapper  The Big Day  2019  Town On The Hill            0\n",
       "60  Chance the Rapper  The Big Day  2019  Zanies and Fools            4\n",
       "\n",
       "[61 rows x 5 columns]"
      ]
     },
     "execution_count": 9,
     "metadata": {},
     "output_type": "execute_result"
    }
   ],
   "source": [
    "#checking that df is as expected\n",
    "chance_df"
   ]
  },
  {
   "cell_type": "code",
   "execution_count": 10,
   "metadata": {},
   "outputs": [
    {
     "data": {
      "text/plain": [
       "Text(0.5, -0.1, '')"
      ]
     },
     "execution_count": 10,
     "metadata": {},
     "output_type": "execute_result"
    },
    {
     "data": {
      "image/png": "[encoded data removed]",
      "text/plain": [
       "<Figure size 720x1440 with 1 Axes>"
      ]
     },
     "metadata": {},
     "output_type": "display_data"
    }
   ],
   "source": [
    "sns.set(style = 'white')\n",
    "plt.rcParams[\"axes.labelsize\"] = 16\n",
    "f, ax = plt.subplots(figsize = (10,20))\n",
    "ax.set(ylim = (-2,110))\n",
    "chance_pal = {\"10 Day\": \"#ff6961\", \"Acid Rap\": \"#b883b8\", \"Coloring Book\":\"#ff8c69\", \"The Big Day\": \"#6E9C6E\"}\n",
    "sns.boxplot(x = \"Album\", y = \"Swear Count\", data = chance_df, whis = 'range', palette = chance_pal)\n",
    "sns.swarmplot(x = \"Album\", y = \"Swear Count\", data = chance_df, size = 6, color = \"0.3\", linewidth = 0)\n",
    "sns.despine(trim = True, bottom = True)\n",
    "ax.text(x=0.5, y= -0.1, s='', fontsize=16, ha='center', va='bottom', transform=ax.transAxes)\n"
   ]
  },
  {
   "cell_type": "code",
   "execution_count": 11,
   "metadata": {},
   "outputs": [],
   "source": [
    "#creating a dictionary of every word and how many times it occured\n",
    "all_words_dict = {}\n",
    "\n",
    "for item in song_dict:\n",
    "    \n",
    "    for word in song_dict[item].split():\n",
    "        word = word.replace(\".\",\"\")\n",
    "        word = word.replace(\"\\n\",\"\")\n",
    "        word = word.replace(\",\",\"\")\n",
    "        word = word.replace(\"[\",\"\")\n",
    "        word = word.replace(\"]\",\",\")\n",
    "        word = word.replace(\"!\",\"\")\n",
    "        word = word.replace(\"?\",\"\")\n",
    "        word = word.replace(\"(\",\"\")\n",
    "        word = word.replace(\")\",\"\")\n",
    "        \n",
    "        if word not in all_words_dict:\n",
    "            all_words_dict[word] = 1\n",
    "        else:\n",
    "            all_words_dict[word] += 1"
   ]
  },
  {
   "cell_type": "code",
   "execution_count": 12,
   "metadata": {},
   "outputs": [],
   "source": [
    "#creating a series from all_words_dict\n",
    "most_said_words = pd.Series(all_words_dict).sort_values(ascending = False)"
   ]
  },
  {
   "cell_type": "code",
   "execution_count": 13,
   "metadata": {},
   "outputs": [],
   "source": [
    "#function to search for the total count of occurances of an inputted list of words\n",
    "def word_counter_agg(words_to_search_for):\n",
    "    agg_count = 0\n",
    "    for word in words_to_search_for:\n",
    "        agg_count += most_said_words[word]\n",
    "    return agg_count"
   ]
  },
  {
   "cell_type": "code",
   "execution_count": 14,
   "metadata": {},
   "outputs": [],
   "source": [
    "#family is an important theme in Chance's music\n",
    "family_words = {}\n",
    "\n",
    "family_words['dad'] = word_counter_agg(['dad','daddy','dads','father'])\n",
    "family_words['mom'] = word_counter_agg(['mom','moms', 'mother', 'ma', 'mama'])\n",
    "family_words['grandma'] = word_counter_agg(['grandma','granny', 'grandmas'])\n",
    "family_words['daughter'] = word_counter_agg(['daughter', 'daughters'])\n",
    "family_words['son'] = word_counter_agg(['son'])\n",
    "family_words['wife'] = word_counter_agg(['wife', 'wifey', 'bride'])\n",
    "family_words['husband'] = word_counter_agg(['husband', 'hubby'])\n",
    "family_words['cousin'] = word_counter_agg(['cousin', 'cousins'])\n",
    "family_words['uncle'] = word_counter_agg(['uncle'])\n",
    "family_words['brother'] = word_counter_agg(['brother', 'brothers', 'bro', 'bros'])\n",
    "family_words['family'] = word_counter_agg(['family', 'fam'])\n",
    "\n",
    "family_series = pd.Series(family_words).sort_values(ascending = False)\n",
    "family_series"
   ]
  },
  {
   "cell_type": "code",
   "execution_count": 16,
   "metadata": {},
   "outputs": [],
   "source": [
    "#chicago is also an important theme that I also wanted to explore\n",
    "chicago_words = {}\n",
    "\n",
    "chicago_words['chicago'] = word_counter_agg(['chicago'])\n",
    "chicago_words['chi'] = word_counter_agg(['chi'])\n",
    "chicago_words['chi-town'] = word_counter_agg(['chi-town'])\n",
    "chicago_words['chi-city'] = word_counter_agg(['chi-city'])\n",
    "chicago_words['7-7-3'] = word_counter_agg(['7-7-3'])\n",
    "chicago_words['79th'] = word_counter_agg(['79th'])\n",
    "\n",
    "chicago_series = pd.Series(chicago_words).sort_values(ascending = False)\n",
    "chicago_series"
   ]
  },
  {
   "cell_type": "code",
   "execution_count": 17,
   "metadata": {},
   "outputs": [],
   "source": [
    "#Chance has a song called '22 Offs', where he actually says the word 'off' 25 times. I wanted to compare this to other songs\n",
    "off_dict = word_counter_by_song(['off'])\n",
    "chance_df['Off Count'] = chance_df['Song'].map(off_dict)"
   ]
  },
  {
   "cell_type": "code",
   "execution_count": 18,
   "metadata": {},
   "outputs": [
    {
     "data": {
      "image/png": "[encoded data removed]",
      "text/plain": [
       "<Figure size 1080x360 with 1 Axes>"
      ]
     },
     "metadata": {},
     "output_type": "display_data"
    }
   ],
   "source": [
    "sns.set(style = \"white\")\n",
    "f, ax = plt.subplots(figsize = (15, 5))\n",
    "ax.set(ylabel = 'Number of Songs')\n",
    "sns.distplot(chance_df['Off Count'], kde = False, color = \"#ff6961\", bins = np.arange(chance_df['Off Count'].min(), chance_df['Off Count'].max() + 1))\n",
    "sns.despine(trim = True,  left = True, bottom = True)"
   ]
  },
  {
   "cell_type": "code",
   "execution_count": null,
   "metadata": {},
   "outputs": [],
   "source": []
  },
  {
   "cell_type": "code",
   "execution_count": null,
   "metadata": {},
   "outputs": [],
   "source": []
  }
 ],
 "metadata": {
  "kernelspec": {
   "display_name": "Python 3.7.4 64-bit ('base': conda)",
   "language": "python",
   "name": "python37464bitbasecondafdff4a0af2ad4dccb8b3ba98f269c869"
  },
  "language_info": {
   "codemirror_mode": {
    "name": "ipython",
    "version": 3
   },
   "file_extension": ".py",
   "mimetype": "text/x-python",
   "name": "python",
   "nbconvert_exporter": "python",
   "pygments_lexer": "ipython3",
   "version": "3.7.4"
  }
 },
 "nbformat": 4,
 "nbformat_minor": 2
}
